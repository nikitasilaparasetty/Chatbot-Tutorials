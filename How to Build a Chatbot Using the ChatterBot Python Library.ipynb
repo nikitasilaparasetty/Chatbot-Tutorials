{
 "cells": [
  {
   "cell_type": "markdown",
   "id": "fc48af37",
   "metadata": {},
   "source": [
    "# Build a Chatbot Using the Chatterbot Python Library"
   ]
  },
  {
   "cell_type": "markdown",
   "id": "ec00f381",
   "metadata": {},
   "source": [
    "## Installations  \n",
    "You can directly install chatterbot using 'pip', as shown below:"
   ]
  },
  {
   "cell_type": "code",
   "execution_count": 1,
   "id": "97a86749",
   "metadata": {},
   "outputs": [],
   "source": [
    "#pip install chatterbot"
   ]
  },
  {
   "cell_type": "markdown",
   "id": "eef7da40",
   "metadata": {},
   "source": [
    "## Import the Necessary Packages"
   ]
  },
  {
   "cell_type": "code",
   "execution_count": 2,
   "id": "cb9df7b6",
   "metadata": {},
   "outputs": [],
   "source": [
    "# Import the necessary packages\n",
    "\n",
    "from chatterbot import ChatBot\n",
    "from chatterbot.trainers import ListTrainer"
   ]
  },
  {
   "cell_type": "markdown",
   "id": "7709d1c2",
   "metadata": {},
   "source": [
    "The following lines of code are necessary only if you face any issues with running your code. Please feel free to skip this part and move to the next section. "
   ]
  },
  {
   "cell_type": "code",
   "execution_count": 3,
   "id": "a5f47d45",
   "metadata": {},
   "outputs": [],
   "source": [
    "# Since Python3.3, Hashable was moved to the collections.abc module \n",
    "# Hashability makes an object usable as a dictionary key and a set member, \n",
    "# because these data structures use the hash value internally\n",
    "# We can force compatibility by adding the following lines:\n",
    "\n",
    "import collections.abc\n",
    "collections.Hashable = collections.abc.Hashable"
   ]
  },
  {
   "cell_type": "code",
   "execution_count": 4,
   "id": "bd491e61",
   "metadata": {},
   "outputs": [],
   "source": [
    "# We also need to import the logging module and set the log level to CRITICAL\n",
    "# Logging is a means of tracking events that happen when some software runs\n",
    "# Logging provides a set of convenience functions for simple logging usage\n",
    "\n",
    "import logging \n",
    "logger = logging.getLogger() \n",
    "logger.setLevel(logging.CRITICAL)"
   ]
  },
  {
   "cell_type": "markdown",
   "id": "ca01dbc4",
   "metadata": {},
   "source": [
    "## Initialise the Chatbot\n",
    "\n",
    "We initialise the chatbot by creating an instance of it and giving it a name. Here, we call it, 'MedBot', since our goal is to make this chatbot work for a clinic website. \n",
    "\n",
    "A database will be created in your working folder that will store all the conversation data.\n"
   ]
  },
  {
   "cell_type": "code",
   "execution_count": 5,
   "id": "ee782b3e",
   "metadata": {
    "scrolled": true
   },
   "outputs": [
    {
     "name": "stderr",
     "output_type": "stream",
     "text": [
      "[nltk_data] Downloading package averaged_perceptron_tagger to\n",
      "[nltk_data]     C:\\Users\\nikit\\AppData\\Roaming\\nltk_data...\n",
      "[nltk_data]   Package averaged_perceptron_tagger is already up-to-\n",
      "[nltk_data]       date!\n",
      "[nltk_data] Downloading package punkt to\n",
      "[nltk_data]     C:\\Users\\nikit\\AppData\\Roaming\\nltk_data...\n",
      "[nltk_data]   Package punkt is already up-to-date!\n",
      "[nltk_data] Downloading package stopwords to\n",
      "[nltk_data]     C:\\Users\\nikit\\AppData\\Roaming\\nltk_data...\n",
      "[nltk_data]   Package stopwords is already up-to-date!\n"
     ]
    }
   ],
   "source": [
    "# Initialise the chatbot \n",
    "\n",
    "bot = ChatBot('MedBot')\n",
    "\n"
   ]
  },
  {
   "cell_type": "markdown",
   "id": "de7929ad",
   "metadata": {},
   "source": [
    "## Clean the Data and Display a Default Error Message \n",
    "\n",
    "We can clean the input data to make our chatbot even more accurate.\n",
    "\n",
    "We can also output a default error message if the chatbot is unable to understand the input data."
   ]
  },
  {
   "cell_type": "code",
   "execution_count": 6,
   "id": "5a869ebd",
   "metadata": {},
   "outputs": [
    {
     "name": "stderr",
     "output_type": "stream",
     "text": [
      "[nltk_data] Downloading package averaged_perceptron_tagger to\n",
      "[nltk_data]     C:\\Users\\nikit\\AppData\\Roaming\\nltk_data...\n",
      "[nltk_data]   Package averaged_perceptron_tagger is already up-to-\n",
      "[nltk_data]       date!\n",
      "[nltk_data] Downloading package punkt to\n",
      "[nltk_data]     C:\\Users\\nikit\\AppData\\Roaming\\nltk_data...\n",
      "[nltk_data]   Package punkt is already up-to-date!\n",
      "[nltk_data] Downloading package stopwords to\n",
      "[nltk_data]     C:\\Users\\nikit\\AppData\\Roaming\\nltk_data...\n",
      "[nltk_data]   Package stopwords is already up-to-date!\n"
     ]
    }
   ],
   "source": [
    "# We will remove unicode characters, escaped html characters, and clean up whitespaces. \n",
    "\n",
    "bot = ChatBot('MedBot', read_only = True, \n",
    "              preprocessors=['chatterbot.preprocessors.convert_to_ascii', \n",
    "                             'chatterbot.preprocessors.unescape_html',\n",
    "                             'chatterbot.preprocessors.clean_whitespace'],\n",
    "             logic_adapters = [\n",
    "                 {\n",
    "                     'import_path': 'chatterbot.logic.BestMatch',\n",
    "                     'default_response': 'Sorry, I am unable to process your request. Please try again, or contact us for help.',\n",
    "                     'maximum_similarity_threshold': 0.90\n",
    "                 }\n",
    "             ],)"
   ]
  },
  {
   "cell_type": "markdown",
   "id": "bed6da26",
   "metadata": {},
   "source": [
    "## Train the Chatbot\n",
    "\n",
    "We can train our chatbot using chatterbot's 'ListTrainer()'. This allows us to provide data in the form of a conversation (statement + response), and the chatbot will train on this data to figure out how to respond accurately to a user's input. "
   ]
  },
  {
   "cell_type": "code",
   "execution_count": 7,
   "id": "9926ac1b",
   "metadata": {},
   "outputs": [
    {
     "name": "stdout",
     "output_type": "stream",
     "text": [
      "List Trainer: [####################] 100%\n",
      "List Trainer: [####################] 100%\n",
      "List Trainer: [####################] 100%\n",
      "List Trainer: [####################] 100%\n",
      "List Trainer: [####################] 100%\n",
      "List Trainer: [####################] 100%\n",
      "List Trainer: [####################] 100%\n"
     ]
    }
   ],
   "source": [
    "trainer = ListTrainer(bot)\n",
    "\n",
    "# Greetings\n",
    "\n",
    "trainer.train([\n",
    "    \"Hi\",\n",
    "    \"Hello, how may I help you?\",\n",
    "])\n",
    "\n",
    "# Services\n",
    "    \n",
    "trainer.train([    \n",
    "    \"I would like to book an appointment with the ENT today\",\n",
    "    \"Sure, please choose a slot between Morning, Afternoon, or Evening: \",\n",
    "    \"Afternoon\",\n",
    "    \"Your appointment is confirmed. You can come between 12:00 and 16:00.\",\n",
    "    \"Morning\",\n",
    "    \"Your appointment is confirmed. You can come between 8:00 and 12:00.\",\n",
    "    \"Evening\",\n",
    "    \"Your appointment is confirmed. You can come between 16:00 and 20:00.\",\n",
    "])\n",
    "\n",
    "\n",
    "trainer.train([\n",
    "    \"I want to cancel my appointment.\",\n",
    "    \"Okay, Your appointment has been cancelled.\",\n",
    "])\n",
    "\n",
    "trainer.train([\n",
    "    \"I would like to change my appointment slot.\",\n",
    "    \"Sure, what slot would you like? You can choose between Morning, afternoon, and Night.\",\n",
    "    \"Afternoon\",\n",
    "    \"Your appointment is confirmed. Your slot is now between 12:00 and 16:00.\",\n",
    "    \"Morning\",\n",
    "    \"Your appointment is confirmed. Your slot is now between 8:00 and 12:00.\",\n",
    "    \"Evening\",\n",
    "    \"Your appointment is confirmed. Your slot is now between 16:00 and 20:00.\",\n",
    "])\n",
    "\n",
    "trainer.train([\n",
    "    \"What is your phone number? How do I reach you? How do I contact you? How do I call you?\",\n",
    "    \"Our number is 01**23**45\",\n",
    "    \"What is your address? Where are you located?\",\n",
    "    \"You can find us at No. 45, 8th Cross, Oakwood Street\",\n",
    "])\n",
    "\n",
    "trainer.train([\n",
    "    \"Which Doctor is available?\",\n",
    "    \"We have Dr. Esther, Dr. Judith, Dr. Sarah, Dr. Matthew, and Dr. Rob\",\n",
    "    \"I want an appointment with Dr. Esther or Dr. Judith or Dr. Sarah or Dr. Matthew or Dr. Rob\",\n",
    "    \"Sure, please select your slot\",\n",
    "    \"Afternoon\",\n",
    "    \"Your appointment is confirmed. You can come between 12:00 and 16:00.\",\n",
    "    \"Morning\",\n",
    "    \"Your appointment is confirmed. You can come between 8:00 and 12:00.\",\n",
    "    \"Evening\",\n",
    "    \"Your appointment is confirmed. You can come between 16:00 and 20:00.\",\n",
    "])\n",
    "\n",
    "\n",
    "# Conclusion\n",
    "\n",
    "trainer.train([\n",
    "    \"Thank you!\",\n",
    "    \"You're most welcome!\",\n",
    "    \"Thanks!\",\n",
    "    \"Of course!\",\n",
    "    ])\n"
   ]
  },
  {
   "cell_type": "markdown",
   "id": "34460476",
   "metadata": {},
   "source": [
    "## Test the Chatbot\n",
    "\n",
    "We can test the accuracy of the chatbot's responses, as shown below:"
   ]
  },
  {
   "cell_type": "code",
   "execution_count": 8,
   "id": "2923a6f0",
   "metadata": {},
   "outputs": [
    {
     "name": "stdout",
     "output_type": "stream",
     "text": [
      "Bot Response: We have Dr. Esther, Dr. Judith, Dr. Sarah, Dr. Matthew, and Dr. Rob\n"
     ]
    }
   ],
   "source": [
    "# Test the chatbot's accuracy by entering any statement of your choice within the brackets to get its response.\n",
    "\n",
    "response = bot.get_response('Which doctor is available?')\n",
    "\n",
    "print(\"Bot Response:\", response)"
   ]
  },
  {
   "cell_type": "markdown",
   "id": "a51b29ad",
   "metadata": {},
   "source": [
    "## Run the Chatbot\n",
    "\n",
    "We will first ask the user for their name and email ID, and store them as variables. We will then print a welcome message for the user.\n",
    "For the user input, we will create a while loop that continually requests the user's input. This process will stop when the user types 'Bye'. \n"
   ]
  },
  {
   "cell_type": "code",
   "execution_count": 9,
   "id": "daa63a9a",
   "metadata": {},
   "outputs": [
    {
     "name": "stdout",
     "output_type": "stream",
     "text": [
      "Please enter your Name: Nik\n",
      "Please enter your Email ID: nik@example.com\n",
      "Welcome to the ChatBot Service for Pseudonymous ENT! How can I help you? (Enter 'Bye' to exit)\n",
      "Nik:I want to book an appointment\n",
      "ChatBot: Sure, please choose a slot between Morning, Afternoon, or Evening:\n",
      "Nik:Evening\n",
      "ChatBot: Your appointment is confirmed. You can come between 16:00 and 19:00.\n",
      "Nik:I want to change my appointment\n",
      "ChatBot: Okay, Your appointment has been cancelled.\n",
      "Nik:I want to change my appoitnment slot\n",
      "ChatBot: Okay, Your appointment has been cancelled.\n",
      "Nik:I would like to change my appointment\n",
      "ChatBot: Sure, what slot would you like? You can choose between Morning, afternoon, and Night.\n",
      "Nik:Morning\n",
      "ChatBot: Your appointment is confirmed. You can come between 8:00 and 12:00.\n",
      "Nik:Which doctor is available?\n",
      "ChatBot: We have Dr. Esther, Dr. Judith, Dr. Sarah, Dr. Matthew, and Dr. Rob\n",
      "Nik:Where are you located?\n",
      "ChatBot: You can find us at No. 45, 8th Cross, Oakwood Street\n",
      "Nik:Ukulele\n",
      "ChatBot: Hi\n",
      "Nik:Thanks!\n",
      "ChatBot: Of course!\n",
      "Nik:Bye\n",
      "ChatBot: It was great talking to you! Bye!\n"
     ]
    }
   ],
   "source": [
    "# Create a while loop to keep requesting user inputs until the user says 'Bye'\n",
    "\n",
    "name=input(\"Please enter your Name: \")\n",
    "email = input(\"Please enter your Email ID: \")\n",
    "print(\"Welcome to the ChatBot Service for Pseudonymous ENT! How can I help you? (Enter 'Bye' to exit)\")\n",
    "while True:\n",
    "    request=input(name+':')\n",
    "    if request=='Bye' or request =='bye':\n",
    "        print('ChatBot: It was great talking to you! Bye!')\n",
    "        break\n",
    "    else:\n",
    "        response=bot.get_response(request)\n",
    "        print('ChatBot:',response)"
   ]
  },
  {
   "cell_type": "markdown",
   "id": "4bc7ca1b",
   "metadata": {},
   "source": [
    "That's it! As you can see, there is still a lot more that you can do to make your chatbot even better. Try adding more clean training data and see how accurate you can make it. \n",
    "\n",
    "All the best!"
   ]
  },
  {
   "cell_type": "code",
   "execution_count": null,
   "id": "64b6aa18",
   "metadata": {},
   "outputs": [],
   "source": []
  }
 ],
 "metadata": {
  "kernelspec": {
   "display_name": "Python 3 (ipykernel)",
   "language": "python",
   "name": "python3"
  },
  "language_info": {
   "codemirror_mode": {
    "name": "ipython",
    "version": 3
   },
   "file_extension": ".py",
   "mimetype": "text/x-python",
   "name": "python",
   "nbconvert_exporter": "python",
   "pygments_lexer": "ipython3",
   "version": "3.10.11"
  }
 },
 "nbformat": 4,
 "nbformat_minor": 5
}
