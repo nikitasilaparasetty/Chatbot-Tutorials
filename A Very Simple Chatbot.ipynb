{
 "cells": [
  {
   "cell_type": "markdown",
   "metadata": {},
   "source": [
    "In this project, we will create a very basic chatbot, for which we define a few set inputs and their corresponding outputs. "
   ]
  },
  {
   "cell_type": "markdown",
   "metadata": {},
   "source": [
    "We will use the NLTK library to build our chatbot."
   ]
  },
  {
   "cell_type": "markdown",
   "metadata": {},
   "source": [
    "## Import the NLTK library and its utilities"
   ]
  },
  {
   "cell_type": "code",
   "execution_count": null,
   "metadata": {},
   "outputs": [],
   "source": [
    "import nltk\n",
    "from nltk.chat.util import Chat, reflections"
   ]
  },
  {
   "cell_type": "markdown",
   "metadata": {},
   "source": [
    "NLTK (Natural Language Toolkit): This library is mainly used when working in computational linguistics. It makes it easier for the machine to understand our natural human language.\n",
    "\n",
    "The 'Chat' utility is a class that provides us with the logic required for setting up the chatbot."
   ]
  },
  {
   "cell_type": "markdown",
   "metadata": {},
   "source": [
    "Let's check out the different 'reflections' for various words or phrases. You can create your own dictionary of inputs and their corresponding outputs as well. "
   ]
  },
  {
   "cell_type": "code",
   "execution_count": null,
   "metadata": {},
   "outputs": [],
   "source": [
    "reflections"
   ]
  },
  {
   "cell_type": "markdown",
   "metadata": {},
   "source": [
    "## Prepare the data for the bot"
   ]
  },
  {
   "cell_type": "markdown",
   "metadata": {},
   "source": [
    "Let's try creating our own similar dictionary. Here, I have used the same data as given in 'reflections', with a few minor changes and additions. "
   ]
  },
  {
   "cell_type": "code",
   "execution_count": null,
   "metadata": {},
   "outputs": [],
   "source": [
    "refl = {\"i am\": \"you are\",\n",
    " \"i was\": \"you were\",\n",
    " \"i\": \"you\",\n",
    " \"i'm\": \"you're\",\n",
    " \"i'd\": \"you would\",\n",
    " \"i've\": \"you have\",\n",
    " \"i'll\": \"you will\",\n",
    " \"my\": \"your\",\n",
    " \"you are\": \"I am\",\n",
    " \"you were\": \"I was\",\n",
    " \"you have\": \"I have\",\n",
    " \"you've\" : \"I've\",\n",
    " \"you'll\":\"I will\",\n",
    " \"your\":\"my\",\n",
    " \"yours\": \"mine\",\n",
    " \"you\": \"me\",\n",
    " \"me\": \"you\"}"
   ]
  },
  {
   "cell_type": "markdown",
   "metadata": {},
   "source": [
    "We also need to create a simple set of rules that will tell the bot how to respond to certain expected inputs from the user. The first element of each set is the user input, and the second element is the bot output. We use '|' to group similar words or phrases together."
   ]
  },
  {
   "cell_type": "code",
   "execution_count": null,
   "metadata": {},
   "outputs": [],
   "source": [
    "set_pairs = [\n",
    "    [\n",
    "        r\"my name is (.*)\",\n",
    "        [\"Hey there %1, how are you today ?\",]\n",
    "    ],\n",
    "    [\n",
    "        r\"hi|hey|hello|hey there|yo\",\n",
    "        [\"Hello\", \"Hey there\",]\n",
    "    ], \n",
    "    [\n",
    "        r\"what is your name?|what's your name?|who are you?|who're you?\",\n",
    "        [\"I am the one who must not be named.\",]\n",
    "    ],\n",
    "    [\n",
    "        r\"how are you?|how're you doing?|how you doin?|how are you doing?|how're you?|you alright?|are you keeping well?\",\n",
    "        [\"I am fine, thank you! How about you?\",]\n",
    "    ],\n",
    "    [\n",
    "        r\"I am fine, thank you|I'm great|I'm awesome|I'm fine|I'm alright|i'm good\",\n",
    "        [\"Great to hear that! How can I help you?\",]\n",
    "    ],\n",
    "    [\n",
    "        r\"are you real?\",\n",
    "        [\"That is for me to know, and for you to ponder.\",]\n",
    "    ],\n",
    "    [\n",
    "        r\"i'm not doing good|I'm struggling|I could be better|I'm not good|I'm sick|I'm sad\",\n",
    "        [\"Aw, I'm so sorry to hear that! I'll Pray for you. Hope you are alright soon!\",]\n",
    "    ],\n",
    "    [\n",
    "        r\"What's your favorite movie?|what's your favourite movie?\",\n",
    "        [\"I love most Disney and Pixar movies. Also, most Marvel movies.\",]\n",
    "    ],\n",
    "    [\n",
    "        r\"What's your favorite color?|what's your favourite color?\",\n",
    "        [\"It's hard to pick one, they are all so beautiful\",]\n",
    "    ],\n",
    "    [\n",
    "        r\"Thanks!|thank you|thanks|thank you so much|thanks very much\",\n",
    "        [\"I am happy to help\", \"No problem, you're welcome\",]\n",
    "    ],\n",
    "    [\n",
    "        r\"quit|bye|see you|see ya|later\",\n",
    "    [\"Bye, take care. See you soon! Please type 'quit' to leave, if you haven't already done so. :) \",\"It was nice talking to you. See you soon! Please type 'quit' to leave, if you haven't already done so. :)\"]\n",
    "],\n",
    "]"
   ]
  },
  {
   "cell_type": "markdown",
   "metadata": {},
   "source": [
    "Now, we create an instance of the 'Chat()' function, containing 'set_pairs' and 'refl'. "
   ]
  },
  {
   "cell_type": "code",
   "execution_count": null,
   "metadata": {},
   "outputs": [],
   "source": [
    "chat = Chat(set_pairs, refl)\n",
    "print(chat)"
   ]
  },
  {
   "cell_type": "markdown",
   "metadata": {},
   "source": [
    "## Define the chatbot and run it"
   ]
  },
  {
   "cell_type": "markdown",
   "metadata": {},
   "source": [
    "Finally, we define our chatbot. We also add a sentence that needs to be displayed whenever the fuction is called. After this, we initiate the conversation using the 'converse()' function."
   ]
  },
  {
   "cell_type": "code",
   "execution_count": null,
   "metadata": {},
   "outputs": [],
   "source": [
    "def chatbot():\n",
    "        print(\"Hi, I'm a chatbot. Try asking me something.\") \n",
    "        chat.converse()\n",
    "if __name__ == \"__main__\":\n",
    "    chatbot()"
   ]
  },
  {
   "cell_type": "code",
   "execution_count": null,
   "metadata": {},
   "outputs": [],
   "source": []
  }
 ],
 "metadata": {
  "kernelspec": {
   "display_name": "Python 3",
   "language": "python",
   "name": "python3"
  },
  "language_info": {
   "codemirror_mode": {
    "name": "ipython",
    "version": 3
   },
   "file_extension": ".py",
   "mimetype": "text/x-python",
   "name": "python",
   "nbconvert_exporter": "python",
   "pygments_lexer": "ipython3",
   "version": "3.7.6"
  }
 },
 "nbformat": 4,
 "nbformat_minor": 2
}
